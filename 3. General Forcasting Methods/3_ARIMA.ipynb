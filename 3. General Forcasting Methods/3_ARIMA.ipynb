{
  "nbformat": 4,
  "nbformat_minor": 0,
  "metadata": {
    "colab": {
      "name": "3_ARIMA.ipynb",
      "provenance": [],
      "collapsed_sections": [],
      "toc_visible": true,
      "authorship_tag": "ABX9TyN/WxL66Bu4EQJvZc/wRAoP",
      "include_colab_link": true
    },
    "kernelspec": {
      "name": "python3",
      "display_name": "Python 3"
    }
  },
  "cells": [
    {
      "cell_type": "markdown",
      "metadata": {
        "id": "view-in-github",
        "colab_type": "text"
      },
      "source": [
        "<a href=\"https://colab.research.google.com/github/worklifesg/Time-Series-Forecasting-and-Analysis/blob/main/3.%20General%20Forcasting%20Methods/3_ARIMA.ipynb\" target=\"_parent\"><img src=\"https://colab.research.google.com/assets/colab-badge.svg\" alt=\"Open In Colab\"/></a>"
      ]
    },
    {
      "cell_type": "markdown",
      "metadata": {
        "id": "v0SfIdRutQGz"
      },
      "source": [
        "<h3> General Forecasting Methods </h3>\n",
        "\n",
        "<b> Forecasting Procedure: </b> \n",
        "\n",
        " - Choose Model (through statistical analysis)\n",
        " - Split data into train and test sets (for fairly evaluate our model)\n",
        " - Fit model on training set\n",
        " - Evaluate model on test set\n",
        " - Refit model on etire dataset\n",
        " - Forecast for future dataset\n",
        "\n",
        "<b> Section Overview: </b> \n",
        "\n",
        " - Forecasting\n",
        " - ACF and PACF plots\n",
        " - Autoregression - AR\n",
        " - Descriptive Statistics and Tests\n",
        " - Choosing ARIMA orders\n",
        " - ARIMA based models\n",
        "\n",
        "\n",
        "---\n",
        "\n",
        "\n",
        "\n",
        "---\n",
        "\n"
      ]
    },
    {
      "cell_type": "markdown",
      "metadata": {
        "id": "wBBWLLFtt2R_"
      },
      "source": [
        "3. ARIMA - AutoRegressive Integrated Moving Average\n",
        "\n",
        "Here we have three components\n",
        "  - AutoRegressive (AR) - generalization of ARMA model\n",
        "  - Integrated (I)\n",
        "  - Moving Average (MA)\n",
        "\n",
        "a) It works very well with time stamped data but it won't be able to understand any outside factors in forcasting.\n",
        "\n",
        "b) Both ARIMA and ARMA are fitted to time series data wither to udnerstand the data or to forecast the data\n",
        "\n",
        "<b> Types of ARIMA models </b>\n",
        "  - Non-Seasonal ARIMA\n",
        "  - Seasonal ARIMA (SARIMA)\n",
        "   - Understanding SARIMA with exogeneous variables such as SARIMAX\n",
        "\n",
        "\n",
        "---"
      ]
    },
    {
      "cell_type": "markdown",
      "metadata": {
        "id": "1u-h1ZLM0akC"
      },
      "source": [
        "Data --> Non-stationary, where initial differencing step (corresponding to I part of model) can be applied many times to ELIMINATE non-stationary part.\n",
        "\n",
        "<b> Non-seasonal ARIMA model</b>\n",
        "\n",
        "a) Denoted by p,d,q (non-negative integers)\n",
        "- p = AR :  A regression model that utilizes dependent relationship between current observation and observation over previous period.\n",
        "- d = I: Differencing of observations in order to make time series stationary.\n",
        "- d = MA : Model that uses dependency between an observation and residula error from MA applied to lagged observations.\n",
        "\n",
        "<b> - Stationary means having constant mean and variance over time. \\\\\n",
        "  - It means the future predict will also have constant mean and variance. \\\\\n",
        "  - Stationary mathematical test: Augmented Dickey-Fuller Test</b>\n",
        "\n",
        "b) Differencing : shifting the data by 1,2.... named as First Difference, Second Difference....each differencing comes with the cost of losing raw data.\n",
        "  - For seasonald ata we can do differencing by season as well.\n",
        "  - Another technique is to combine both methods, taking seasonal difference of the first difference.\n",
        "\n",
        "<b> How to choose p,d,q</b>\n",
        "\n",
        "  - Method 1 : ACF, PACF plots. Using these plots we can choose p, d, q on viewing the decay n the plot. (Difficult to read the best value)\n",
        "  - Method 2 : \n",
        "    - Grid Search\n",
        "    - Run ARIMA based models on different combinations of p,d,q and compare models for on some evaluation metric\n",
        "\n",
        "\n",
        "---\n",
        "\n"
      ]
    },
    {
      "cell_type": "markdown",
      "metadata": {
        "id": "0QsxKwyzIYBN"
      },
      "source": [
        "<b> AR Models </b>"
      ]
    },
    {
      "cell_type": "markdown",
      "metadata": {
        "id": "icI-LS0yIcG8"
      },
      "source": [
        "If we drop I and MA components we can get model based only on AR.\n",
        "\n",
        "<b> <i> AR Model --> </i> </b> Forecast using linear combination of past values of the variable. AR describes the regression of the variable against itself. AR is rum against a set of lagged values of <b> p </b>\n",
        "\n",
        "AR model specifies that <b> output variable </b> depends linearly on its own previous values and on <b> stochastic term </b>\n",
        "\n",
        "<u> <b> Formula of AR </b> </u>\n",
        "\n",
        "\\begin{align*}\n",
        "y_t &=c+\\phi_1 y_{t-1} + \\phi_2 y_{t-2}+....\\phi_p y_{t-p}+\\epsilon_t\n",
        "\\end{align*}\n",
        "\n",
        " - $y_t$ at time point $t$ is the singular predicted value at time $t$\n",
        " - $\\phi_1 y_{t-1} + \\phi_2 y_{t-2}+....\\phi_p y_{t-p}$ are historical values at different point of time.\n",
        " - $\\phi_p$ are lag coefficients as each coefficient is lagged by one time step backwards\n",
        " - $c,\\epsilon_t$ are constant and noise respectively - some proportion of this that we can't say or predict that we can't model\n",
        "\n",
        "<u> <b> Orders of AR </b> </u>\n",
        "\n",
        "AR (1) ---> AR model or order 1 (predict $y_t$ just one lag time backwards)\n",
        "\n",
        "\\begin{align*}\n",
        "y_t &=c+\\phi_1 y_{t-1} + \\epsilon_t\n",
        "\\end{align*}\n",
        "\n",
        "AR (2) ---> AR model or order 2 (predict $y_t$ just two lag time backwards)\n",
        "\n",
        "\\begin{align*}\n",
        "y_t &=c+\\phi_1 y_{t-1}+ \\phi_2 y_{t-2} + \\epsilon_t\n",
        "\\end{align*}\n",
        "\n",
        "* More higher order, more accurate results are going to be because of using more historical data but there is a limit as well as if we go back too far it may pick up noise that is not relevant to prediction term.\n",
        "* Statsmodels can choose best model order for us."
      ]
    },
    {
      "cell_type": "code",
      "metadata": {
        "id": "jBrDcOX8L3Ur"
      },
      "source": [
        ""
      ],
      "execution_count": null,
      "outputs": []
    }
  ]
}